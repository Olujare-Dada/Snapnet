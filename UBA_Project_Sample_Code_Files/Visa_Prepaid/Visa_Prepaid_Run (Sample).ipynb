{
 "cells": [
  {
   "cell_type": "code",
   "execution_count": null,
   "id": "9844c18e",
   "metadata": {},
   "outputs": [],
   "source": [
    "%run ./Visa_Prepaid_Functions (Sample)"
   ]
  },
  {
   "cell_type": "code",
   "execution_count": null,
   "id": "c1f3156a",
   "metadata": {},
   "outputs": [],
   "source": []
  },
  {
   "cell_type": "code",
   "execution_count": null,
   "id": "03082704",
   "metadata": {},
   "outputs": [],
   "source": [
    "current_month = extract_month_from_folderpath(folder_path, months_list)\n",
    "current_month"
   ]
  },
  {
   "cell_type": "code",
   "execution_count": null,
   "id": "40404c64",
   "metadata": {},
   "outputs": [],
   "source": []
  },
  {
   "cell_type": "code",
   "execution_count": null,
   "id": "a8cd1a16",
   "metadata": {},
   "outputs": [],
   "source": [
    "day_folder_paths = get_folder_paths(folder_path)\n",
    "day_folder_paths"
   ]
  },
  {
   "cell_type": "code",
   "execution_count": null,
   "id": "7bea5814",
   "metadata": {},
   "outputs": [],
   "source": []
  },
  {
   "cell_type": "code",
   "execution_count": null,
   "id": "6b58c728",
   "metadata": {},
   "outputs": [],
   "source": [
    "pdf_file_paths = get_report_pdf_filepaths(folder_path, day_folder_paths, current_month)\n",
    "pdf_file_paths"
   ]
  },
  {
   "cell_type": "code",
   "execution_count": null,
   "id": "d304e0e5",
   "metadata": {},
   "outputs": [],
   "source": []
  },
  {
   "cell_type": "code",
   "execution_count": null,
   "id": "215daa63",
   "metadata": {},
   "outputs": [],
   "source": [
    "desired_dates = get_desired_dates()\n",
    "\n",
    "desired_date_formats = ['%d_%m_%Y', '%d-%m-%Y', '%d-%m_%Y', '%d_%m_%Y', '%d%m%Y', '%d%m_%Y', '%d_%m_%Y', '%d_%m_%Y', '%d_%m_%Y', ' %d-%m-%Y', ' %d_%m_%Y', '%d-%b-%Y']  # Add the desired date format \"10-Jun-2023\"\n",
    "\n",
    "latest_file_paths = get_desired_files(pdf_file_paths, desired_dates, desired_date_formats)\n",
    "\n",
    "latest_file_paths\n"
   ]
  },
  {
   "cell_type": "code",
   "execution_count": null,
   "id": "cc72bd4e",
   "metadata": {},
   "outputs": [],
   "source": []
  },
  {
   "cell_type": "code",
   "execution_count": null,
   "id": "adadeece",
   "metadata": {},
   "outputs": [],
   "source": [
    "combined_final_df = perform_transformations(latest_file_paths, desired_dates)\n",
    "combined_final_df"
   ]
  },
  {
   "cell_type": "code",
   "execution_count": null,
   "id": "0dc2e1be",
   "metadata": {},
   "outputs": [],
   "source": []
  },
  {
   "cell_type": "code",
   "execution_count": null,
   "id": "bb30af23",
   "metadata": {},
   "outputs": [],
   "source": [
    "final_result, database_table_dict = create_spark_dataframe(combined_final_df)\n"
   ]
  },
  {
   "cell_type": "code",
   "execution_count": null,
   "id": "a04f0ca3",
   "metadata": {},
   "outputs": [],
   "source": []
  },
  {
   "cell_type": "code",
   "execution_count": null,
   "id": "02fcddf5",
   "metadata": {},
   "outputs": [],
   "source": [
    "\n",
    "jdbcHostname, jdbcPort, jdbcDatabase, jdbcUsername, jdbcPassword, table, jdbcDriver, jdbcUrl = _define_database_parameters()\n",
    "\n",
    "final_result.write.format(\"jdbc\").option(\"user\", jdbcUsername).option(\"password\", jdbcPassword).option(\"url\", jdbcUrl).option(\"dbtable\", table).option(\"driver\", jdbcDriver).mode(\"append\").save() "
   ]
  }
 ],
 "metadata": {
  "kernelspec": {
   "display_name": "Python 3 (ipykernel)",
   "language": "python",
   "name": "python3"
  },
  "language_info": {
   "codemirror_mode": {
    "name": "ipython",
    "version": 3
   },
   "file_extension": ".py",
   "mimetype": "text/x-python",
   "name": "python",
   "nbconvert_exporter": "python",
   "pygments_lexer": "ipython3",
   "version": "3.11.5"
  }
 },
 "nbformat": 4,
 "nbformat_minor": 5
}
