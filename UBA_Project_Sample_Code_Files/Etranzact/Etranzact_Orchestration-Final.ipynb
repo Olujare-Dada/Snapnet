{
 "cells": [
  {
   "cell_type": "code",
   "execution_count": 214,
   "id": "9dbd6fd6",
   "metadata": {},
   "outputs": [],
   "source": [
    "import pandas as pd\n",
    "import numpy as np\n",
    "import os\n",
    "import warnings\n",
    "import PyPDF2\n",
    "from datetime import datetime\n",
    "import re\n",
    "from io import StringIO\n",
    "\n",
    "\n"
   ]
  },
  {
   "cell_type": "code",
   "execution_count": 215,
   "id": "ede612d7",
   "metadata": {},
   "outputs": [],
   "source": [
    "# Get the current date\n",
    "current_date = datetime.now()\n",
    "\n",
    "# Format the date\n",
    "formatted_date = current_date.strftime(\"%d %b %Y\")\n",
    "\n",
    "# Get current hour\n",
    "current_hour = datetime.now().hour\n",
    "\n",
    "# main_folder_path = f\"./033_REPORTS_05032023/{datetime.now().day}/\"\n",
    "#main_folder_path = f\"./033_REPORTS_05032023/30/\"\n"
   ]
  },
  {
   "cell_type": "code",
   "execution_count": 233,
   "id": "df44f99b",
   "metadata": {},
   "outputs": [],
   "source": [
    "%run \"./excel_functions.ipynb\"\n",
    "%run \"./Settlement_Functions_Final.ipynb\"\n",
    "\n",
    "#main_folder_path = \"./033_REPORTS_05032023/\"\n",
    "#main_folder_path = \"./29/29/\"\n",
    "#main_folder_path = \"./033_REPORTS_05032023/29/11AM/\"\n",
    "#main_folder_path = \"./033_REPORTS_05032023/29/7AM/\"\n",
    "#main_folder_path = \"./033_REPORTS_05032023/29/2PM/\"\n",
    "#main_folder_path = \"./033_REPORTS_05032023/29/5PM/\"\n",
    "#main_folder_path = \"./033_REPORTS_05032023/30/11AM/\"\n",
    "#main_folder_path = \"./033_REPORTS_05032023/30/7AM/\"\n",
    "#main_folder_path = \"./033_REPORTS_05032023/30/2PM/\"\n",
    "#main_folder_path = \"./033_REPORTS_05032023/29/5PM/\"\n",
    "\n",
    "babcock_only_sum = 0"
   ]
  },
  {
   "cell_type": "code",
   "execution_count": null,
   "id": "a9482bb2",
   "metadata": {},
   "outputs": [],
   "source": []
  },
  {
   "cell_type": "markdown",
   "id": "117edba2",
   "metadata": {},
   "source": [
    "### Keywords in all Reports"
   ]
  },
  {
   "cell_type": "code",
   "execution_count": 217,
   "id": "56d11a10",
   "metadata": {},
   "outputs": [],
   "source": [
    "list_of_reports = [\n",
    "                  \"incoming_commissions_details\",\n",
    "                  \"incoming_cpay_details\",\n",
    "                  \"incoming_reversal_details\",\n",
    "                  \"incoming_transfers_details\",\n",
    "                  \"incoming_payments_summary\",\n",
    "                  \"outgoing_cardloads_details\",\n",
    "                  \"outgoing_commissions_summary\",\n",
    "                  \"outgoing_reversal_details\",\n",
    "                  \"outgoing_cpay_details\",\n",
    "                  \"outgoing_cpay_comm_summary_details\",\n",
    "                  \"samebank_commissions_summary\",\n",
    "                  \"outgoing_payments_summary\",\n",
    "                \"incoming_commissions_summary\",\n",
    "                   \"net_settlement_position\"\n",
    "                  ]\n",
    "\n",
    "\n",
    "supplementary_list_of_reports = [\n",
    "    \n",
    "    \"outgoing_reversal_summary\",\n",
    "    \"incoming_cpay_summary\",\n",
    "    \"incoming_transfer_summary\",\n",
    "    \"outgoing_cardloads_summary\",\n",
    "    \"incoming_reversal_summary\",\n",
    "    \"outgoing_cpay_summary\"\n",
    "    \n",
    "    \n",
    "]"
   ]
  },
  {
   "cell_type": "code",
   "execution_count": null,
   "id": "4902569d",
   "metadata": {},
   "outputs": [],
   "source": []
  },
  {
   "cell_type": "code",
   "execution_count": null,
   "id": "347d9825",
   "metadata": {},
   "outputs": [],
   "source": []
  },
  {
   "cell_type": "markdown",
   "id": "c16545a9",
   "metadata": {},
   "source": [
    "### All available files for the Time\n",
    "\n",
    "Here, a list of all the files in the folder whose path was generated in the last step is created."
   ]
  },
  {
   "cell_type": "code",
   "execution_count": 219,
   "id": "aab8de53",
   "metadata": {},
   "outputs": [
    {
     "name": "stdout",
     "output_type": "stream",
     "text": [
      "FUNCTION CALLED: list_of_files_generator\n",
      "\n",
      "==GENERATING THE LIST OF FILES FOR 11AM\n",
      "The current time: 09:57:09\n",
      "STEP 1: Listing all the files available in the 11AM folder\n",
      "033_INCOMING_TRANSFERS_DETAILS_29112023_11AM.CSV\n",
      "033_INCOMING_TRANSFERS_SUMMARY_29112023_11AM.PDF\n",
      "033_NET_SETTLEMENT_POSITION_29112023_11AM.CSV\n",
      "033_NET_SETTLEMENT_POSITION_29112023_11AM.PDF\n",
      "UBA_29112023_2.pdf\n",
      "FUNCTION EXECUTION ENDED: list_of_files_generator\n"
     ]
    }
   ],
   "source": [
    "list_of_files = list_of_files_generator(main_folder_path)\n"
   ]
  },
  {
   "cell_type": "code",
   "execution_count": null,
   "id": "a668e591",
   "metadata": {},
   "outputs": [],
   "source": []
  },
  {
   "cell_type": "markdown",
   "id": "1d6f0ef3",
   "metadata": {},
   "source": [
    "### A mapping of the Report Keywords to Functions:\n",
    "\n",
    "Here, a dictionary of the report Keywords as keys and the functions that transform the respective reports is created. This is so that only the files required for transformation are transformed"
   ]
  },
  {
   "cell_type": "code",
   "execution_count": 220,
   "id": "e3d380ce",
   "metadata": {},
   "outputs": [],
   "source": [
    "reports_keywords_dict = {\n",
    "    \n",
    "    \"incoming_commissions_details\": incoming_commission_details,\n",
    "    \"incoming_transfers_details\": incoming_transfer_details,\n",
    "    \"outgoing_commissions_summary\": outgoing_commissions_summary,\n",
    "    \"outgoing_payments_summary\": outgoing_payments_summary,\n",
    "    \"samebank_commissions_summary\": samebank_commissions_summary,\n",
    "    \"incoming_commissions_summary\": incoming_commissions_summary,\n",
    "    \"incoming_reversal_details\": incoming_reversal_details,\n",
    "    \"outgoing_cpay_comm_summary_details\": outgoing_cpay_comm_summary_details,\n",
    "    \"outgoing_cpay_details\": outgoing_cpay_details,\n",
    "    \"outgoing_reversal_details\": outgoing_reversal_details,\n",
    "    \"outgoing_cardloads_details\": outgoing_cardloads_details,\n",
    "    \"incoming_payments_summary\": incoming_payments_summary,\n",
    "    \"incoming_cpay_details\": incoming_cpay_details,\n",
    "}\n",
    "\n",
    "supplementary_reports_keywords_dict = {\n",
    "\"outgoing_reversal_summary\": outgoing_reversal_summary,\n",
    "    \"incoming_cpay_summary\": incoming_cpay_summary,\n",
    "    \"incoming_transfer_summary\": incoming_transfer_summary,\n",
    "    \"outgoing_cardloads_summary\": outgoing_cardloads_summary,\n",
    "    \"incoming_reversal_summary\": incoming_reversal_summary,\n",
    "    \"outgoing_cpay_summary\": outgoing_cpay_summary\n",
    "        }\n",
    "# supplementary_reports_keywords_replacements= {\n",
    "#     \"outgoing_cpay_details\": \"outgoing_cpay_summary\",\n",
    "#     \"incoming_reversal_details\": \"incoming_reversal_summary\",\n",
    "#     \"outgoing_cardloads_details\": \"outgoing_cardloads_summary\",\n",
    "#     \"incoming_transfers_details\": \"incoming_transfer_summary\",\n",
    "#     \"incoming_cpay_details\" : \"incoming_cpay_summary\",\n",
    "#     \"outgoing_reversal_details\": \"outgoing_reversal_summary\"\n",
    "    \n",
    "    \n",
    "# }"
   ]
  },
  {
   "cell_type": "code",
   "execution_count": null,
   "id": "9a4781f7",
   "metadata": {},
   "outputs": [],
   "source": []
  },
  {
   "cell_type": "code",
   "execution_count": null,
   "id": "d0bac287",
   "metadata": {
    "scrolled": true
   },
   "outputs": [],
   "source": []
  },
  {
   "cell_type": "markdown",
   "id": "fd62a0bc",
   "metadata": {},
   "source": [
    "### Create Actual report to Function mapping:\n",
    "\n",
    "This builds on the previous step and creates a mapping of the actual csv file names and their respective transformation functions."
   ]
  },
  {
   "cell_type": "code",
   "execution_count": 222,
   "id": "22bcee80",
   "metadata": {},
   "outputs": [
    {
     "name": "stdout",
     "output_type": "stream",
     "text": [
      "FUNCTION CALLED: file_to_function_mapping\n",
      "Report found\n",
      "Report name: 033_INCOMING_TRANSFERS_DETAILS_29112023_11AM.CSV\n",
      "FUNCTION EXECUTION ENDED: file_to_function_mapping\n",
      "\n",
      "The files to be processed and their processing functions are given below:\n",
      "{'033_INCOMING_TRANSFERS_DETAILS_29112023_11AM.CSV': <function function_name_decorator.<locals>.wrapper at 0x0000021455C38D60>}\n"
     ]
    }
   ],
   "source": [
    "workflow_dict = file_to_function_mapping(list_of_files)\n",
    "print(f\"\\nThe files to be processed and their processing functions are given below:\\n{workflow_dict}\")"
   ]
  },
  {
   "cell_type": "code",
   "execution_count": null,
   "id": "6b3d4cd9",
   "metadata": {},
   "outputs": [],
   "source": []
  },
  {
   "cell_type": "markdown",
   "id": "f48efba7",
   "metadata": {},
   "source": [
    "### Perform transformations and compile:\n",
    "\n",
    "Here, the transformations are performed based on the mapping in the \"workflow_dict\" dictionary created above. After all transformations are done, the results are compiled in an output DataFrame called \"narrations_df\""
   ]
  },
  {
   "cell_type": "code",
   "execution_count": 224,
   "id": "235af952",
   "metadata": {
    "scrolled": false
   },
   "outputs": [
    {
     "name": "stdout",
     "output_type": "stream",
     "text": [
      "FUNCTION CALLED: generate_narration_batch_compilation\n",
      "\n",
      "==GENERATING COMPILED NARRATION FOR 11AM\n",
      "STEP 1: Initialize the Narration list that holds all the Narration DataFrames.\n",
      "Also getting all values in Net Settlement Position PDF\n",
      "==COLLECTING ALL THE VALUES IN THE NET SETTLEMENT POSITION PDF\n",
      "STEP 1: Getting the filename of the Net Settlement Position\n",
      "FUNCTION CALLED: _get_net_settlement_path\n",
      "\n",
      "==GETTING THE PATH FOR NET SETTLEMENT PDF FILE\n",
      "FUNCTION CALLED: _convert_hour_to_am_pm\n",
      "FUNCTION EXECUTION ENDED: _convert_hour_to_am_pm\n",
      "STEP 1: Looping through the files in the directory (List of files) in the 11AM directory\n",
      "FUNCTION EXECUTION ENDED: _get_net_settlement_path\n",
      "STEP 2: Creating the full path for the Net Settlement Position\n",
      "STEP 3: Reading the Net Settlement PDF file\n",
      "FUNCTION CALLED: read_pdf\n",
      "./033_REPORTS_05032023/29/11AM/033_NET_SETTLEMENT_POSITION_29112023_11AM.PDF\n",
      "FUNCTION EXECUTION ENDED: read_pdf\n",
      "STEP 4: Creating a list of values in the Net Settlement Position PDF file\n",
      "CONVERTING THE STRING Amount TO A FLOAT NUMBER\n",
      "CONVERTING THE STRING Incoming TO A FLOAT NUMBER\n",
      "CONVERTING THE STRING Count TO A FLOAT NUMBER\n",
      "CONVERTING THE STRING Outgoing TO A FLOAT NUMBER\n",
      "CONVERTING THE STRING Count TO A FLOAT NUMBER\n",
      "CONVERTING THE STRING Amount TO A FLOAT NUMBER\n",
      "CONVERTING THE STRING Title: TO A FLOAT NUMBER\n",
      "CONVERTING THE STRING Settlement TO A FLOAT NUMBER\n",
      "CONVERTING THE STRING Batch TO A FLOAT NUMBER\n",
      "CONVERTING THE STRING Id: TO A FLOAT NUMBER\n",
      "CONVERTING THE STRING 23K3A35032796_B TO A FLOAT NUMBER\n",
      "CONVERTING THE STRING Settlement TO A FLOAT NUMBER\n",
      "CONVERTING THE STRING Period: TO A FLOAT NUMBER\n",
      "CONVERTING THE STRING 11/29/2023 TO A FLOAT NUMBER\n",
      "CONVERTING THE STRING 00:00:00 TO A FLOAT NUMBER\n",
      "CONVERTING THE STRING To TO A FLOAT NUMBER\n",
      "CONVERTING THE STRING 11/29/2023 TO A FLOAT NUMBER\n",
      "CONVERTING THE STRING 23:59:59 TO A FLOAT NUMBER\n",
      "CONVERTING THE STRING 'NET TO A FLOAT NUMBER\n",
      "CONVERTING THE STRING SETTLEMENT TO A FLOAT NUMBER\n",
      "CONVERTING THE STRING POSITION TO A FLOAT NUMBER\n",
      "CONVERTING THE STRING FOR TO A FLOAT NUMBER\n",
      "CONVERTING THE STRING UNITED TO A FLOAT NUMBER\n",
      "CONVERTING THE STRING BANK TO A FLOAT NUMBER\n",
      "CONVERTING THE STRING FOR TO A FLOAT NUMBER\n",
      "CONVERTING THE STRING AFRICA TO A FLOAT NUMBER\n",
      "CONVERTING THE STRING Net TO A FLOAT NUMBER\n",
      "CONVERTING THE STRING Settlement TO A FLOAT NUMBER\n",
      "CONVERTING THE STRING Position TO A FLOAT NUMBER\n",
      "CONVERTING THE STRING Funds TO A FLOAT NUMBER\n",
      "CONVERTING THE STRING Transfer TO A FLOAT NUMBER\n",
      "CONVERTING THE STRING 33,883 TO A FLOAT NUMBER\n",
      "CONVERTING THE STRING 571,217,157.98 TO A FLOAT NUMBER\n",
      "CONVERTING THE STRING 0.00 TO A FLOAT NUMBER\n",
      "CONVERTING THE STRING 571,217,157.98 TO A FLOAT NUMBER\n",
      "CONVERTING THE STRING 571,217,157.98 TO A FLOAT NUMBER\n",
      "CONVERTING THE STRING 0.00 TO A FLOAT NUMBER\n",
      "CONVERTING THE STRING 571,217,157.98 TO A FLOAT NUMBER\n",
      "CONVERTING THE STRING 11/29/2023 TO A FLOAT NUMBER\n",
      "CONVERTING THE STRING Page TO A FLOAT NUMBER\n",
      "CONVERTING THE STRING 1 TO A FLOAT NUMBER\n",
      "CONVERTING THE STRING of TO A FLOAT NUMBER\n",
      "CONVERTING THE STRING 1 TO A FLOAT NUMBER\n",
      "CONVERTING THE STRING Parties TO A FLOAT NUMBER\n",
      "CONVERTING THE STRING shall TO A FLOAT NUMBER\n",
      "CONVERTING THE STRING ensure TO A FLOAT NUMBER\n",
      "CONVERTING THE STRING that TO A FLOAT NUMBER\n",
      "CONVERTING THE STRING on TO A FLOAT NUMBER\n",
      "CONVERTING THE STRING receipt TO A FLOAT NUMBER\n",
      "CONVERTING THE STRING of TO A FLOAT NUMBER\n",
      "CONVERTING THE STRING this TO A FLOAT NUMBER\n",
      "CONVERTING THE STRING report, TO A FLOAT NUMBER\n",
      "CONVERTING THE STRING all TO A FLOAT NUMBER\n",
      "CONVERTING THE STRING disputed TO A FLOAT NUMBER\n",
      "CONVERTING THE STRING transactions/claims TO A FLOAT NUMBER\n",
      "CONVERTING THE STRING must TO A FLOAT NUMBER\n",
      "CONVERTING THE STRING be TO A FLOAT NUMBER\n",
      "CONVERTING THE STRING reported, TO A FLOAT NUMBER\n",
      "CONVERTING THE STRING investigated, TO A FLOAT NUMBER\n",
      "CONVERTING THE STRING and TO A FLOAT NUMBER\n",
      "CONVERTING THE STRING necessary TO A FLOAT NUMBER\n",
      "CONVERTING THE STRING adjustment(s) TO A FLOAT NUMBER\n",
      "CONVERTING THE STRING applied TO A FLOAT NUMBER\n",
      "CONVERTING THE STRING within TO A FLOAT NUMBER\n",
      "CONVERTING THE STRING a TO A FLOAT NUMBER\n",
      "CONVERTING THE STRING 72 TO A FLOAT NUMBER\n",
      "CONVERTING THE STRING hour TO A FLOAT NUMBER\n",
      "CONVERTING THE STRING period: TO A FLOAT NUMBER\n",
      "CONVERTING THE STRING eTranzact TO A FLOAT NUMBER\n",
      "CONVERTING THE STRING will TO A FLOAT NUMBER\n",
      "CONVERTING THE STRING not TO A FLOAT NUMBER\n",
      "CONVERTING THE STRING be TO A FLOAT NUMBER\n",
      "CONVERTING THE STRING held TO A FLOAT NUMBER\n",
      "CONVERTING THE STRING liable, TO A FLOAT NUMBER\n",
      "CONVERTING THE STRING nor TO A FLOAT NUMBER\n",
      "CONVERTING THE STRING have TO A FLOAT NUMBER\n",
      "CONVERTING THE STRING obligation TO A FLOAT NUMBER\n",
      "CONVERTING THE STRING to TO A FLOAT NUMBER\n",
      "CONVERTING THE STRING investigate TO A FLOAT NUMBER\n",
      "CONVERTING THE STRING or TO A FLOAT NUMBER\n",
      "CONVERTING THE STRING make TO A FLOAT NUMBER\n",
      "CONVERTING THE STRING any TO A FLOAT NUMBER\n",
      "CONVERTING THE STRING adjustment(s) TO A FLOAT NUMBER\n",
      "CONVERTING THE STRING after TO A FLOAT NUMBER\n",
      "CONVERTING THE STRING the TO A FLOAT NUMBER\n",
      "CONVERTING THE STRING expiration TO A FLOAT NUMBER\n",
      "CONVERTING THE STRING this TO A FLOAT NUMBER\n",
      "CONVERTING THE STRING period TO A FLOAT NUMBER\n",
      "STEP 5: Returning the list of values extracted.\n",
      "\n",
      "STEP 2: Looping through each Identified Report stored in the workflow_dict\n",
      "\n",
      "\n",
      "BEGINNING TRANSFORMATION FOR 033_INCOMING_TRANSFERS_DETAILS_29112023_11AM.CSV\n",
      "    STEP 2.1.0: Creating the full path for the file. It will include 11AM/ in front of the filename\n",
      "./033_REPORTS_05032023/29/11AM/033_INCOMING_TRANSFERS_DETAILS_29112023_11AM.CSV\n",
      "    STEP 2.2.0: Getting the function responsible for cleaning the filename 033_INCOMING_TRANSFERS_DETAILS_29112023_11AM.CSV\n",
      "    STEP 2.3.0: Running the Narration function on the file\n",
      "FUNCTION CALLED: incoming_transfer_details\n",
      "\n",
      "==STEPS FOR INCOMING TRANSFER DETAILS==\n",
      "STEP 1: Reading in the file\n",
      "FUNCTION CALLED: read_report_file\n",
      "==READING IN THE FILE ./033_REPORTS_05032023/29/11AM/033_INCOMING_TRANSFERS_DETAILS_29112023_11AM.CSV\n",
      "Format: CSV\n",
      "STEP 1: Checking if the file has a header or not\n",
      "STEP 2: File has no header\n",
      "FUNCTION EXECUTION ENDED: read_report_file\n",
      "STEP 2: Adding column names to the data\n",
      "FUNCTION CALLED: add_letter_columns_to_df\n",
      "FUNCTION CALLED: _generate_alphabet_mapping\n",
      "FUNCTION EXECUTION ENDED: _generate_alphabet_mapping\n",
      "FUNCTION EXECUTION ENDED: add_letter_columns_to_df\n",
      "STEP 3: Summing up the values of column H\n",
      "STEP 4: Extracting the Account ID from column G\n",
      "STEP 5: Create a dictionary for the Account extracted and Amount calculated\n",
      "STEP 6: Convert the dictionary into a DataFrame\n",
      "STEP 7: Including the NARRATION in the DataFrame\n",
      "FUNCTION EXECUTION ENDED: incoming_transfer_details\n",
      "\n",
      "REPORT FILE NAME : TOTAL AMOUNT CALCULATED\n",
      "033_INCOMING_TRANSFERS_DETAILS_29112023_11AM.CSV: 571217157.98\n",
      "STEP 3: Checking if Narration total is on the Settlement Position created earlier\n",
      "033_INCOMING_TRANSFERS_DETAILS_29112023_11AM.CSV settlement confirmed from Net Settlement Postion PDF\n",
      "STEP 4.0: Appending the DataFrame generated by the function to the Narration list created earlier\n",
      "          ACCOUNT        AMOUNT                          NARRATION\n",
      "0  NGN09991614093  5.712172e+08  Incoming Transfers 11 Dec 2023 S1\n",
      "\n",
      "\n",
      "Compiling all the DataFrames to 1 compiled narration\n",
      "Files worked on are: ['033_INCOMING_TRANSFERS_DETAILS_29112023_11AM.CSV']\n",
      "\n",
      "Number of files worked on: 1.\n",
      "Number of Dataframes: 1\n",
      "FUNCTION EXECUTION ENDED: generate_narration_batch_compilation\n",
      "The final Narration for this set of files is:\n",
      "\n"
     ]
    },
    {
     "data": {
      "text/html": [
       "<div>\n",
       "<style scoped>\n",
       "    .dataframe tbody tr th:only-of-type {\n",
       "        vertical-align: middle;\n",
       "    }\n",
       "\n",
       "    .dataframe tbody tr th {\n",
       "        vertical-align: top;\n",
       "    }\n",
       "\n",
       "    .dataframe thead th {\n",
       "        text-align: right;\n",
       "    }\n",
       "</style>\n",
       "<table border=\"1\" class=\"dataframe\">\n",
       "  <thead>\n",
       "    <tr style=\"text-align: right;\">\n",
       "      <th></th>\n",
       "      <th>ACCOUNT</th>\n",
       "      <th>AMOUNT</th>\n",
       "      <th>NARRATION</th>\n",
       "    </tr>\n",
       "  </thead>\n",
       "  <tbody>\n",
       "    <tr>\n",
       "      <th>0</th>\n",
       "      <td>NGN09991614093</td>\n",
       "      <td>5.712172e+08</td>\n",
       "      <td>Incoming Transfers 11 Dec 2023 S1</td>\n",
       "    </tr>\n",
       "  </tbody>\n",
       "</table>\n",
       "</div>"
      ],
      "text/plain": [
       "          ACCOUNT        AMOUNT                          NARRATION\n",
       "0  NGN09991614093  5.712172e+08  Incoming Transfers 11 Dec 2023 S1"
      ]
     },
     "execution_count": 224,
     "metadata": {},
     "output_type": "execute_result"
    }
   ],
   "source": [
    "narrations_df = generate_narration_batch_compilation(workflow_dict, main_folder_path)\n",
    "\n",
    "print(\"The final Narration for this set of files is:\\n\")\n",
    "narrations_df"
   ]
  },
  {
   "cell_type": "code",
   "execution_count": null,
   "id": "0e9d1219",
   "metadata": {},
   "outputs": [],
   "source": []
  },
  {
   "cell_type": "code",
   "execution_count": null,
   "id": "820e369e",
   "metadata": {},
   "outputs": [],
   "source": []
  },
  {
   "cell_type": "markdown",
   "id": "311f564f",
   "metadata": {},
   "source": [
    "### Comparing Net Settlement value with Narration calculations:\n",
    "\n",
    "Here, the value in the Net Settlement PDF file is compared with the value from our Narration calculations in the \"narration_df\" DataFrame"
   ]
  },
  {
   "cell_type": "code",
   "execution_count": 228,
   "id": "6ef6a431",
   "metadata": {},
   "outputs": [
    {
     "name": "stdout",
     "output_type": "stream",
     "text": [
      "FUNCTION CALLED: compare_total_settlement_total_narration\n",
      "\n",
      "==COMPARING THE TOTAL SETTLEMENT POSITION WITH THE COMPILED NARRATION\n",
      "STEP 1: Summing the complete narration values under the AMOUNT column\n",
      "AMOUNT = 571217157.98\n",
      "\n",
      "STEP 2: Getting the Path for the Net Settlement Position\n",
      "FUNCTION CALLED: _get_net_settlement_path\n",
      "\n",
      "==GETTING THE PATH FOR NET SETTLEMENT PDF FILE\n",
      "FUNCTION CALLED: _convert_hour_to_am_pm\n",
      "FUNCTION EXECUTION ENDED: _convert_hour_to_am_pm\n",
      "STEP 1: Looping through the files in the directory (List of files) in the 11AM directory\n",
      "FUNCTION EXECUTION ENDED: _get_net_settlement_path\n",
      "Net Settlement Position Path: ./033_REPORTS_05032023/29/11AM/033_NET_SETTLEMENT_POSITION_29112023_11AM.PDF\n",
      "\n",
      "\n",
      "STEP 3: Extracting the settlement position value from the NET_SETTLEMENT pdf file\n",
      "FUNCTION CALLED: _extract_settlement_position\n",
      "==EXTRACTING THE SETTLEMENT POSITION\n",
      "FUNCTION CALLED: read_pdf\n",
      "./033_REPORTS_05032023/29/11AM/033_NET_SETTLEMENT_POSITION_29112023_11AM.PDF\n",
      "FUNCTION EXECUTION ENDED: read_pdf\n",
      "STEP 1: Extracting the necessary text from the pdf file\n",
      "STEP 2: Converting the extracted text into an IO object\n",
      "STEP 3: Read the data as a DataFrame\n",
      "STEP 4: Extracting the Total Incoming and Outgoing Amounts.\n",
      "CONVERTING THE STRING 571,217,157.98 TO A FLOAT NUMBER\n",
      "CONVERTING THE STRING 0.00 TO A FLOAT NUMBER\n",
      "\n",
      "Total Incoming Amount in Net Settlement PDF = 571217157.98 \n",
      "Total Outgoing Amount in Net Settlement PDF = 0.0\n",
      "\n",
      "STEP 5: Extracting Settlement Position\n",
      "FUNCTION CALLED: convert_string_numbers\n",
      "Number successfully converted. New format: 571217157.98\n",
      "FUNCTION EXECUTION ENDED: convert_string_numbers\n",
      "STEP 6: Checking if there was an issue with the values extracted in Steps 3 and 4\n",
      "STEP 7: Calculating the Settlement Position from the Total Incoming and Outgoing Amounts extracted\n",
      "571217157.98 - 0.0\n",
      "Calculated Settlement Position = 571217157.98\n",
      "Actual Settlement Position = 571217157.98\n",
      "STEP 8: Checking if this calculated Settlement Position is equal to the extracted Settlement Position\n",
      "STEP 9: Net Settlement Position Confirmed! Returning the value\n",
      "FUNCTION EXECUTION ENDED: _extract_settlement_position\n",
      "\n",
      "\n",
      "Back to Comparing Net Settlement Value with the Calculated Amount\n",
      "Net settlement value from PDF = 571217157.98\n",
      "Total Narration value from calculation = 571217157.98\n",
      "STEP 4: Calculating the Balance. This must be ZERO\n",
      "571217157.98 - 571217157.98\n",
      "Check complete. Balance is correct\n",
      "Balance = 0.0\n",
      "FUNCTION EXECUTION ENDED: compare_total_settlement_total_narration\n"
     ]
    }
   ],
   "source": [
    "balance = compare_total_settlement_total_narration(narrations_df, main_folder_path)"
   ]
  },
  {
   "cell_type": "code",
   "execution_count": null,
   "id": "a7fde370",
   "metadata": {},
   "outputs": [],
   "source": []
  },
  {
   "cell_type": "code",
   "execution_count": null,
   "id": "18138206",
   "metadata": {},
   "outputs": [],
   "source": []
  },
  {
   "cell_type": "markdown",
   "id": "9df4dae6",
   "metadata": {},
   "source": [
    "### Raising Entries"
   ]
  },
  {
   "cell_type": "code",
   "execution_count": 229,
   "id": "7d2443db",
   "metadata": {},
   "outputs": [
    {
     "name": "stdout",
     "output_type": "stream",
     "text": [
      "==RAISING ENTRIES==\n",
      "STEP 1: Make a copy of the DataFrame\n",
      "STEP 2: Sort all the values by the AMOUNT column\n",
      "STEP 3: Limit the NARRATION column width to 30 characters. All other columns are separated by 10 characters\n",
      "STEP 4: Add an extra column to the end of the DataFrame because we are about to insert an empty column\n",
      "FUNCTION CALLED: _create_inner_columns\n",
      "FUNCTION CALLED: _generate_excel_columns\n",
      "FUNCTION EXECUTION ENDED: _generate_excel_columns\n",
      "FUNCTION CALLED: _generate_excel_columns\n",
      "FUNCTION EXECUTION ENDED: _generate_excel_columns\n",
      "FUNCTION EXECUTION ENDED: _create_inner_columns\n",
      "STEP 5: Placing the Transaction ID (i.e. 'C' or 'D') in a column 2 columns away from 'NARRATION'\n",
      "STEP 6: Reorder the data by ACCOUNT\n",
      "STEP 7: Selecting a portion of the Data where the ACCOUNT starts with 'PAL0999'\n",
      "There is no PAL account. Entries complete!\n",
      "STEP 8: Deleting column D\n",
      "STEP 9: Renaming column E to TRANSACTION TYPE\n",
      "\n",
      "Entries complete!\n"
     ]
    }
   ],
   "source": [
    "if balance == 0.0:\n",
    "    entry_df = process_of_raising_entries(narrations_df)\n",
    "    #write to db\n",
    "\n",
    "elif balance == \"NA\":\n",
    "    warnings.warn(f\"There is NO Balance because there was no compiled report.\\nCheck the execution trail for prior warnings to trace the problem\")\n",
    "    entry_df = \"NA\"\n",
    "else:\n",
    "    warnings.warn(f\"Balance is NOT ZERORIZED.\\nBalance = {balance}\")\n",
    "    entry_df = \"INCORRECT\""
   ]
  },
  {
   "cell_type": "code",
   "execution_count": null,
   "id": "bdd270fa",
   "metadata": {},
   "outputs": [],
   "source": []
  },
  {
   "cell_type": "code",
   "execution_count": 230,
   "id": "d8435c9d",
   "metadata": {},
   "outputs": [
    {
     "data": {
      "text/html": [
       "<div>\n",
       "<style scoped>\n",
       "    .dataframe tbody tr th:only-of-type {\n",
       "        vertical-align: middle;\n",
       "    }\n",
       "\n",
       "    .dataframe tbody tr th {\n",
       "        vertical-align: top;\n",
       "    }\n",
       "\n",
       "    .dataframe thead th {\n",
       "        text-align: right;\n",
       "    }\n",
       "</style>\n",
       "<table border=\"1\" class=\"dataframe\">\n",
       "  <thead>\n",
       "    <tr style=\"text-align: right;\">\n",
       "      <th></th>\n",
       "      <th>ACCOUNT</th>\n",
       "      <th>AMOUNT</th>\n",
       "      <th>NARRATION</th>\n",
       "      <th>TRANSACTION TYPE</th>\n",
       "    </tr>\n",
       "  </thead>\n",
       "  <tbody>\n",
       "    <tr>\n",
       "      <th>0</th>\n",
       "      <td>NGN09991614093</td>\n",
       "      <td>5.712172e+08</td>\n",
       "      <td>Incoming Transfers 11 Dec 2023</td>\n",
       "      <td>C</td>\n",
       "    </tr>\n",
       "  </tbody>\n",
       "</table>\n",
       "</div>"
      ],
      "text/plain": [
       "          ACCOUNT        AMOUNT                       NARRATION  \\\n",
       "0  NGN09991614093  5.712172e+08  Incoming Transfers 11 Dec 2023   \n",
       "\n",
       "  TRANSACTION TYPE  \n",
       "0                C  "
      ]
     },
     "execution_count": 230,
     "metadata": {},
     "output_type": "execute_result"
    }
   ],
   "source": [
    "entry_df"
   ]
  },
  {
   "cell_type": "code",
   "execution_count": null,
   "id": "d41ad366",
   "metadata": {},
   "outputs": [],
   "source": []
  },
  {
   "cell_type": "code",
   "execution_count": null,
   "id": "67c674ae",
   "metadata": {},
   "outputs": [],
   "source": []
  }
 ],
 "metadata": {
  "kernelspec": {
   "display_name": "Python 3 (ipykernel)",
   "language": "python",
   "name": "python3"
  },
  "language_info": {
   "codemirror_mode": {
    "name": "ipython",
    "version": 3
   },
   "file_extension": ".py",
   "mimetype": "text/x-python",
   "name": "python",
   "nbconvert_exporter": "python",
   "pygments_lexer": "ipython3",
   "version": "3.11.5"
  }
 },
 "nbformat": 4,
 "nbformat_minor": 5
}
